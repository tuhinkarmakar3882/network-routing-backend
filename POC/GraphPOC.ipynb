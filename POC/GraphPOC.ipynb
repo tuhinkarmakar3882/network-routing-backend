{
 "cells": [
  {
   "cell_type": "code",
   "execution_count": 11,
   "metadata": {},
   "outputs": [],
   "source": [
    "from collections import defaultdict"
   ]
  },
  {
   "cell_type": "code",
   "execution_count": 12,
   "metadata": {},
   "outputs": [],
   "source": [
    "class GraphMin:\n",
    "    vertices = []\n",
    "    edges = defaultdict(list)\n",
    "    \n",
    "    def __init__(self, totalNumberOfVertices):\n",
    "        self.vertices = [vertexNo for vertexNo in range(totalNumberOfVertices)]\n",
    "        self.edges = defaultdict(list)\n",
    "    \n",
    "    def addEdge(self, sourceVertex, destinationVertex, pathWeight):\n",
    "        self.edges[sourceVertex].append((destinationVertex, pathWeight))\n",
    "        self.edges[destinationVertex].append((sourceVertex, pathWeight))\n",
    "        \n",
    "   "
   ]
  },
  {
   "cell_type": "code",
   "execution_count": 13,
   "metadata": {},
   "outputs": [
    {
     "name": "stdout",
     "output_type": "stream",
     "text": [
      "Vertex \t\tDistance from Source\tPath\n",
      "\n",
      "0 --> 1 \t\t12 \t\t 0   0 3    0 3 1 \n",
      "0 --> 2 \t\t16 \t\t 0   0 3    0 3 1     0 3 1 2 \n",
      "0 --> 3 \t\t7 \t\t 0   0 3 "
     ]
    }
   ],
   "source": [
    "class Graph:\n",
    "    def minDistance(self,dist,queue): \n",
    "        minimum = float(\"Inf\") \n",
    "        min_index = -1\n",
    "        for i in range(len(dist)): \n",
    "            if dist[i] < minimum and i in queue: \n",
    "                minimum = dist[i] \n",
    "                min_index = i \n",
    "        return min_index \n",
    "\n",
    "    def printPath(self, parent, j, path=\"\"):\n",
    "        if parent[j] == -1 : \n",
    "            path+=' ' + str(j)\n",
    "            print (path,  end= \" \")\n",
    "            return path\n",
    "        path+=' '+ (self.printPath(parent , parent[j],path) )\n",
    "        path+=' ' + str(j)\n",
    "        print (path,end=\" \") \n",
    "        return path\n",
    "            \n",
    "\n",
    "    def printSolution(self, dist, parent): \n",
    "        src = 0;\n",
    "        temp = []\n",
    "        print(\"Vertex \\t\\tDistance from Source\\tPath\") \n",
    "        for i in range(1, len(dist)): \n",
    "            print(\"\\n{} --> {} \\t\\t{} \\t\\t\".format(src, i, dist[i]), end=\"\")\n",
    "            temp.append(self.printPath(parent,i).strip())\n",
    "        return temp\n",
    "\n",
    "\n",
    "    def djikstra(self, graph, src): \n",
    "        row = len(graph) \n",
    "        col = len(graph[0]) \n",
    "        dist = [float(\"Inf\")] * row \n",
    "        parent = [-1] * row \n",
    "        dist[src] = 0\n",
    "        queue = [] \n",
    "        for i in range(row): \n",
    "            queue.append(i)\n",
    "        while queue: \n",
    "            u = self.minDistance(dist,queue) \n",
    "            queue.remove(u) \n",
    "            for i in range(col): \n",
    "                if graph[u][i] and i in queue: \n",
    "                    if dist[u] + graph[u][i] < dist[i]: \n",
    "                        dist[i] = dist[u] + graph[u][i] \n",
    "                        parent[i] = u \n",
    "        return(self.printSolution(dist,parent))\n",
    "\n",
    "g= Graph()\n",
    "\n",
    "graph = [\n",
    "    [0,0,0,7],\n",
    "    [0,0,4,5],\n",
    "    [0,4,0,0],\n",
    "    [7,5,0,0]\n",
    "]\n",
    "allPaths = g.djikstra(graph,0)"
   ]
  },
  {
   "cell_type": "code",
   "execution_count": 14,
   "metadata": {},
   "outputs": [
    {
     "name": "stdout",
     "output_type": "stream",
     "text": [
      "['0 3 1', '0 3 1 2', '0 3']\n"
     ]
    }
   ],
   "source": [
    "print(allPaths)"
   ]
  },
  {
   "cell_type": "code",
   "execution_count": 15,
   "metadata": {},
   "outputs": [],
   "source": [
    "pathTo = defaultdict(dict)\n",
    "pathData = []\n",
    "for path in allPaths:\n",
    "    pathData = path.split(' ')\n",
    "    source_vertex = int(pathData[0])\n",
    "    destination_vertex= int(pathData[-1])\n",
    "    routeJSON = []\n",
    "    for node in range(len(pathData) - 1):\n",
    "        edgeJSON = {\n",
    "            \"source\": int(pathData[node]),\n",
    "            \"destination\": int(pathData[node+1]),\n",
    "        }\n",
    "        routeJSON.append(edgeJSON)\n",
    "    pathTo[destination_vertex] = routeJSON"
   ]
  },
  {
   "cell_type": "code",
   "execution_count": 16,
   "metadata": {},
   "outputs": [
    {
     "data": {
      "text/plain": [
       "[{'source': 0, 'destination': 3}]"
      ]
     },
     "execution_count": 16,
     "metadata": {},
     "output_type": "execute_result"
    }
   ],
   "source": [
    "pathTo[3]"
   ]
  },
  {
   "cell_type": "code",
   "execution_count": null,
   "metadata": {},
   "outputs": [],
   "source": []
  }
 ],
 "metadata": {
  "kernelspec": {
   "display_name": "Python 3",
   "language": "python",
   "name": "python3"
  },
  "language_info": {
   "codemirror_mode": {
    "name": "ipython",
    "version": 3
   },
   "file_extension": ".py",
   "mimetype": "text/x-python",
   "name": "python",
   "nbconvert_exporter": "python",
   "pygments_lexer": "ipython3",
   "version": "3.8.3"
  }
 },
 "nbformat": 4,
 "nbformat_minor": 4
}
