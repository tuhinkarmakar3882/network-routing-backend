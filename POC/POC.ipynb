{
 "cells": [
  {
   "cell_type": "code",
   "execution_count": 1,
   "metadata": {},
   "outputs": [],
   "source": [
    "import time, threading\n",
    "\n",
    "def set_interval(obj, sec):\n",
    "    def func_wrapper():\n",
    "        set_interval(obj, sec)\n",
    "        obj.scanForNewMessages()\n",
    "    t = threading.Timer(sec, func_wrapper)\n",
    "    t.start()\n",
    "    return t"
   ]
  },
  {
   "cell_type": "code",
   "execution_count": 2,
   "metadata": {},
   "outputs": [],
   "source": [
    "from datetime import datetime\n",
    "import pytz\n",
    "import random\n",
    "\n",
    "def createRandomMessage():\n",
    "    return {\n",
    "        \"message\" : random.randint(0,15),\n",
    "        \"sentAt\" : datetime.utcnow().replace(tzinfo=pytz.utc)\n",
    "    }"
   ]
  },
  {
   "cell_type": "code",
   "execution_count": 4,
   "metadata": {},
   "outputs": [],
   "source": [
    "class Node:\n",
    "    def __init__(self, receivedData, msgCount, congestionLevel):\n",
    "        self.receivedData = receivedData\n",
    "        self.msgCount = msgCount\n",
    "        self.congestionLevel = congestionLevel\n",
    "        \n",
    "    def __discoverRoute(self):\n",
    "        pass\n",
    "    \n",
    "    def getTimeDelay(self):\n",
    "        print(\"Calculating Time Delay\")\n",
    "        # TODO Implement Logic\n",
    "        pass\n",
    "        \n",
    "    def sendData(self, msgContent, destinationNode):\n",
    "        # TODO IMPROVE LOGIC\n",
    "        destinationNode.receivedData.append(msgContent)\n",
    "        print(\"Data Send\", destinationNode.receivedData) \n",
    "        \n",
    "    def scanForNewMessages(self):\n",
    "        if len(self.receivedData) != self.msgCount:\n",
    "            self.msgCount+=1\n",
    "            self.getTimeDelay()\n",
    "            print(\"New Message Received\", self.msgCount)"
   ]
  },
  {
   "cell_type": "code",
   "execution_count": 5,
   "metadata": {},
   "outputs": [],
   "source": [
    "node1 = Node(receivedData=[],msgCount=0,congestionLevel=0)\n",
    "node2 = Node(receivedData=[],msgCount=0,congestionLevel=0)\n",
    "# print(node1.receivedData)\n",
    "# print(node2.receivedData)"
   ]
  },
  {
   "cell_type": "code",
   "execution_count": 6,
   "metadata": {},
   "outputs": [
    {
     "data": {
      "text/plain": [
       "<Timer(Thread-5, started 140379647104768)>"
      ]
     },
     "execution_count": 6,
     "metadata": {},
     "output_type": "execute_result"
    }
   ],
   "source": [
    "set_interval(node1, 1)\n",
    "set_interval(node2, 1)"
   ]
  },
  {
   "cell_type": "code",
   "execution_count": 7,
   "metadata": {},
   "outputs": [
    {
     "name": "stdout",
     "output_type": "stream",
     "text": [
      "Data Send [{'message': 5, 'sentAt': datetime.datetime(2020, 6, 24, 7, 28, 58, 336129, tzinfo=<UTC>)}]\n",
      "Calculating Time Delay\n",
      "New Message Received 1\n"
     ]
    }
   ],
   "source": [
    "node1.sendData(createRandomMessage(),node2)"
   ]
  },
  {
   "cell_type": "code",
   "execution_count": 8,
   "metadata": {},
   "outputs": [
    {
     "name": "stdout",
     "output_type": "stream",
     "text": [
      "[]\n",
      "[{'message': 5, 'sentAt': datetime.datetime(2020, 6, 24, 7, 28, 58, 336129, tzinfo=<UTC>)}]\n"
     ]
    }
   ],
   "source": [
    "print(node1.receivedData)\n",
    "print(node2.receivedData)    #done"
   ]
  },
  {
   "cell_type": "code",
   "execution_count": 9,
   "metadata": {},
   "outputs": [
    {
     "name": "stdout",
     "output_type": "stream",
     "text": [
      "Data Send [{'message': 5, 'sentAt': datetime.datetime(2020, 6, 24, 7, 28, 58, 336129, tzinfo=<UTC>)}, {'message': 6, 'sentAt': datetime.datetime(2020, 6, 24, 7, 29, 29, 24715, tzinfo=<UTC>)}]\n",
      "Calculating Time Delay\n",
      "New Message Received 2\n"
     ]
    }
   ],
   "source": [
    "node1.sendData(createRandomMessage(),node2)"
   ]
  },
  {
   "cell_type": "code",
   "execution_count": 10,
   "metadata": {},
   "outputs": [
    {
     "name": "stdout",
     "output_type": "stream",
     "text": [
      "Data Send [{'message': 0, 'sentAt': datetime.datetime(2020, 6, 16, 14, 7, 47, 689001, tzinfo=<UTC>)}]\n",
      "Calculating Time Delay\n",
      "New Message Received 1\n"
     ]
    }
   ],
   "source": [
    "node2.sendData(createRandomMessage(),node1)"
   ]
  },
  {
   "cell_type": "code",
   "execution_count": 11,
   "metadata": {},
   "outputs": [
    {
     "name": "stdout",
     "output_type": "stream",
     "text": [
      "Data Send [{'message': 0, 'sentAt': datetime.datetime(2020, 6, 16, 14, 7, 47, 689001, tzinfo=<UTC>)}, {'message': 14, 'sentAt': datetime.datetime(2020, 6, 16, 14, 8, 17, 741752, tzinfo=<UTC>)}]\n",
      "Calculating Time Delay\n",
      "New Message Received 2\n"
     ]
    }
   ],
   "source": [
    "node2.sendData(createRandomMessage(),node1)"
   ]
  },
  {
   "cell_type": "code",
   "execution_count": 12,
   "metadata": {},
   "outputs": [
    {
     "name": "stdout",
     "output_type": "stream",
     "text": [
      "[{'message': 0, 'sentAt': datetime.datetime(2020, 6, 16, 14, 7, 47, 689001, tzinfo=<UTC>)}, {'message': 14, 'sentAt': datetime.datetime(2020, 6, 16, 14, 8, 17, 741752, tzinfo=<UTC>)}]\n",
      "[{'message': 10, 'sentAt': datetime.datetime(2020, 6, 16, 14, 7, 12, 553021, tzinfo=<UTC>)}, {'message': 14, 'sentAt': datetime.datetime(2020, 6, 16, 14, 7, 26, 691457, tzinfo=<UTC>)}, {'message': 9, 'sentAt': datetime.datetime(2020, 6, 16, 14, 7, 43, 783841, tzinfo=<UTC>)}]\n"
     ]
    }
   ],
   "source": [
    "print(node1.receivedData)\n",
    "print(node2.receivedData)  "
   ]
  },
  {
   "cell_type": "code",
   "execution_count": 15,
   "metadata": {},
   "outputs": [
    {
     "name": "stdout",
     "output_type": "stream",
     "text": [
      "3\n",
      "3\n"
     ]
    }
   ],
   "source": [
    "print(len(node1.receivedData))\n",
    "print(len(node2.receivedData))"
   ]
  },
  {
   "cell_type": "code",
   "execution_count": 14,
   "metadata": {},
   "outputs": [
    {
     "name": "stdout",
     "output_type": "stream",
     "text": [
      "Data Send [{'message': 0, 'sentAt': datetime.datetime(2020, 6, 16, 14, 7, 47, 689001, tzinfo=<UTC>)}, {'message': 14, 'sentAt': datetime.datetime(2020, 6, 16, 14, 8, 17, 741752, tzinfo=<UTC>)}, {'message': 10, 'sentAt': datetime.datetime(2020, 6, 16, 14, 11, 11, 993567, tzinfo=<UTC>)}]\n",
      "Calculating Time Delay\n",
      "New Message Received 3\n"
     ]
    }
   ],
   "source": [
    "node1.sendData(createRandomMessage(),node1)"
   ]
  },
  {
   "cell_type": "code",
   "execution_count": 17,
   "metadata": {},
   "outputs": [
    {
     "ename": "SyntaxError",
     "evalue": "invalid syntax (<ipython-input-17-4e4eb1256892>, line 2)",
     "output_type": "error",
     "traceback": [
      "\u001b[0;36m  File \u001b[0;32m\"<ipython-input-17-4e4eb1256892>\"\u001b[0;36m, line \u001b[0;32m2\u001b[0m\n\u001b[0;31m    new_node = Node(//params)\u001b[0m\n\u001b[0m                     ^\u001b[0m\n\u001b[0;31mSyntaxError\u001b[0m\u001b[0;31m:\u001b[0m invalid syntax\n"
     ]
    }
   ],
   "source": []
  },
  {
   "cell_type": "code",
   "execution_count": null,
   "metadata": {},
   "outputs": [],
   "source": []
  }
 ],
 "metadata": {
  "kernelspec": {
   "display_name": "Python 3",
   "language": "python",
   "name": "python3"
  },
  "language_info": {
   "codemirror_mode": {
    "name": "ipython",
    "version": 3
   },
   "file_extension": ".py",
   "mimetype": "text/x-python",
   "name": "python",
   "nbconvert_exporter": "python",
   "pygments_lexer": "ipython3",
   "version": "3.6.9"
  }
 },
 "nbformat": 4,
 "nbformat_minor": 4
}
